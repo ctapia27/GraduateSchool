{
 "cells": [
  {
   "cell_type": "markdown",
   "id": "1d105ec7",
   "metadata": {},
   "source": [
    "###Part C: Number Guessing Game"
   ]
  },
  {
   "cell_type": "code",
   "execution_count": 1,
   "id": "f1634213",
   "metadata": {},
   "outputs": [
    {
     "name": "stdout",
     "output_type": "stream",
     "text": [
      "Input your guess 10\n",
      "Too low\n",
      "You have 9 chances left\n",
      "Input your guess 9\n",
      "Too low\n",
      "You have 8 chances left\n",
      "Input your guess 8\n",
      "Too low\n",
      "You have 7 chances left\n",
      "Input your guess 7\n",
      "Too low\n",
      "You have 6 chances left\n",
      "Input your guess 6\n",
      "Too low\n",
      "You have 5 chances left\n",
      "Input your guess 5\n",
      "Too low\n",
      "You have 4 chances left\n",
      "Input your guess 4\n",
      "Too low\n",
      "You have 3 chances left\n",
      "Input your guess 3\n",
      "Too low\n",
      "You have 2 chances left\n",
      "Input your guess 2\n",
      "Too low\n",
      "You have 1 chances left\n",
      "Input your guess 1\n",
      "Too low\n",
      "You have 0 chances left\n",
      "Oops you have run out of chances!\n"
     ]
    }
   ],
   "source": [
    "import random\n",
    "\n",
    "class NumberGuessingGame:\n",
    "\n",
    "    def __init__(number):\n",
    "        number.low = 1\n",
    "        number.high = 100\n",
    "        number.chances = 10\n",
    "\n",
    "    def generatednum(number):\n",
    "        return random.randint(number.low, number.high)\n",
    "\n",
    "    def start(number):\n",
    "        random_number = number.generatednum()\n",
    "\n",
    "        chances = 0\n",
    "        while True:\n",
    "            numinput = int(input(\"Input your guess \"))\n",
    "            if numinput == random_number:\n",
    "                print(\"You guess correctly!\")\n",
    "                break\n",
    "            elif numinput < random_number:\n",
    "                print(\"Too low\")\n",
    "            else:\n",
    "                print(\"Too high\")\n",
    "            print(f\"You have {9 - chances} chances left\")\n",
    "            chances += 1\n",
    "            if chances == number.chances:\n",
    "                print(\"Oops you have run out of chances!\")\n",
    "                break \n",
    "\n",
    "numberGuessingGame = NumberGuessingGame()\n",
    "numberGuessingGame.start()"
   ]
  },
  {
   "cell_type": "code",
   "execution_count": 9,
   "id": "c654f45e",
   "metadata": {},
   "outputs": [
    {
     "name": "stdout",
     "output_type": "stream",
     "text": [
      "Input your guess: 10\n",
      "Too low\n",
      "You have 9 chances left\n",
      "Input your guess: 9\n",
      "Too low\n",
      "You have 8 chances left\n",
      "Input your guess: 8\n",
      "Too low\n",
      "You have 7 chances left\n",
      "Input your guess: 7\n",
      "Too low\n",
      "You have 6 chances left\n",
      "Input your guess: 6\n",
      "Too low\n",
      "You have 5 chances left\n",
      "Input your guess: 5\n",
      "Too low\n",
      "You have 4 chances left\n",
      "Input your guess: 4\n",
      "Too low\n",
      "You have 3 chances left\n",
      "Input your guess: 3\n",
      "Too low\n",
      "You have 2 chances left\n",
      "Input your guess: 2\n",
      "Too low\n",
      "You have 1 chances left\n",
      "Input your guess: 1\n",
      "Too low\n",
      "You have 0 chances left\n",
      "Opps, you have run out of chances!\n"
     ]
    }
   ],
   "source": [
    "import random \n",
    "number = random.randint(1,100)\n",
    "chances = 0\n",
    "\n",
    "while chances < 10:\n",
    "    try: \n",
    "        numinput = int(input(\"Input your guess: \"))\n",
    "        if numinput == number:\n",
    "            print(\"You guess correctly!\")\n",
    "            break\n",
    "        elif numinput < number:\n",
    "            print(\"Too low\")\n",
    "        else:\n",
    "            print(\"Too high\")\n",
    "        print(f\"You have {9 - chances} chances left\")\n",
    "        chances += 1\n",
    "        \n",
    "        if chances == 10:\n",
    "            print(\"Opps, you have run out of chances!\")\n",
    "    except:\n",
    "        print(\"You have not entered a number\")"
   ]
  },
  {
   "cell_type": "code",
   "execution_count": null,
   "id": "0c88dc66",
   "metadata": {},
   "outputs": [],
   "source": []
  }
 ],
 "metadata": {
  "kernelspec": {
   "display_name": "Python 3",
   "language": "python",
   "name": "python3"
  },
  "language_info": {
   "codemirror_mode": {
    "name": "ipython",
    "version": 3
   },
   "file_extension": ".py",
   "mimetype": "text/x-python",
   "name": "python",
   "nbconvert_exporter": "python",
   "pygments_lexer": "ipython3",
   "version": "3.8.8"
  }
 },
 "nbformat": 4,
 "nbformat_minor": 5
}
