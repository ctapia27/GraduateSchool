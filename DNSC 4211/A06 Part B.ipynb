{
 "cells": [
  {
   "cell_type": "markdown",
   "id": "52650f50",
   "metadata": {},
   "source": [
    "# Part B: RE/MAX Price Prediction"
   ]
  },
  {
   "cell_type": "code",
   "execution_count": 1,
   "id": "c170679f",
   "metadata": {},
   "outputs": [],
   "source": [
    "import warnings\n",
    "warnings.filterwarnings('ignore')\n",
    "import pandas as pd \n",
    "import statsmodels.api as sm"
   ]
  },
  {
   "cell_type": "code",
   "execution_count": 27,
   "id": "956d5220",
   "metadata": {},
   "outputs": [],
   "source": [
    "import seaborn as sn\n",
    "%matplotlib inline\n",
    "def draw_pp_plot( model, title ):\n",
    "    probplot = sm.ProbPlot( model.resid, fit = True );\n",
    "    probplot.ppplot( line='45' ); #45-degree line."
   ]
  },
  {
   "cell_type": "code",
   "execution_count": 28,
   "id": "eef82fa5",
   "metadata": {},
   "outputs": [
    {
     "data": {
      "text/html": [
       "<div>\n",
       "<style scoped>\n",
       "    .dataframe tbody tr th:only-of-type {\n",
       "        vertical-align: middle;\n",
       "    }\n",
       "\n",
       "    .dataframe tbody tr th {\n",
       "        vertical-align: top;\n",
       "    }\n",
       "\n",
       "    .dataframe thead th {\n",
       "        text-align: right;\n",
       "    }\n",
       "</style>\n",
       "<table border=\"1\" class=\"dataframe\">\n",
       "  <thead>\n",
       "    <tr style=\"text-align: right;\">\n",
       "      <th></th>\n",
       "      <th>price</th>\n",
       "      <th>area</th>\n",
       "      <th>bedrooms</th>\n",
       "      <th>bathrooms</th>\n",
       "      <th>stories</th>\n",
       "      <th>mainroad</th>\n",
       "      <th>guestroom</th>\n",
       "      <th>basement</th>\n",
       "      <th>hotwaterheating</th>\n",
       "      <th>airconditioning</th>\n",
       "      <th>parking</th>\n",
       "      <th>prefarea</th>\n",
       "      <th>furnishingstatus</th>\n",
       "    </tr>\n",
       "  </thead>\n",
       "  <tbody>\n",
       "    <tr>\n",
       "      <th>0</th>\n",
       "      <td>13300000</td>\n",
       "      <td>7420</td>\n",
       "      <td>4</td>\n",
       "      <td>2</td>\n",
       "      <td>3</td>\n",
       "      <td>yes</td>\n",
       "      <td>no</td>\n",
       "      <td>no</td>\n",
       "      <td>no</td>\n",
       "      <td>yes</td>\n",
       "      <td>2</td>\n",
       "      <td>yes</td>\n",
       "      <td>furnished</td>\n",
       "    </tr>\n",
       "    <tr>\n",
       "      <th>1</th>\n",
       "      <td>12250000</td>\n",
       "      <td>8960</td>\n",
       "      <td>4</td>\n",
       "      <td>4</td>\n",
       "      <td>4</td>\n",
       "      <td>yes</td>\n",
       "      <td>no</td>\n",
       "      <td>no</td>\n",
       "      <td>no</td>\n",
       "      <td>yes</td>\n",
       "      <td>3</td>\n",
       "      <td>no</td>\n",
       "      <td>furnished</td>\n",
       "    </tr>\n",
       "    <tr>\n",
       "      <th>2</th>\n",
       "      <td>12250000</td>\n",
       "      <td>9960</td>\n",
       "      <td>3</td>\n",
       "      <td>2</td>\n",
       "      <td>2</td>\n",
       "      <td>yes</td>\n",
       "      <td>no</td>\n",
       "      <td>yes</td>\n",
       "      <td>no</td>\n",
       "      <td>no</td>\n",
       "      <td>2</td>\n",
       "      <td>yes</td>\n",
       "      <td>semi-furnished</td>\n",
       "    </tr>\n",
       "    <tr>\n",
       "      <th>3</th>\n",
       "      <td>12215000</td>\n",
       "      <td>7500</td>\n",
       "      <td>4</td>\n",
       "      <td>2</td>\n",
       "      <td>2</td>\n",
       "      <td>yes</td>\n",
       "      <td>no</td>\n",
       "      <td>yes</td>\n",
       "      <td>no</td>\n",
       "      <td>yes</td>\n",
       "      <td>3</td>\n",
       "      <td>yes</td>\n",
       "      <td>furnished</td>\n",
       "    </tr>\n",
       "    <tr>\n",
       "      <th>4</th>\n",
       "      <td>11410000</td>\n",
       "      <td>7420</td>\n",
       "      <td>4</td>\n",
       "      <td>1</td>\n",
       "      <td>2</td>\n",
       "      <td>yes</td>\n",
       "      <td>yes</td>\n",
       "      <td>yes</td>\n",
       "      <td>no</td>\n",
       "      <td>yes</td>\n",
       "      <td>2</td>\n",
       "      <td>no</td>\n",
       "      <td>furnished</td>\n",
       "    </tr>\n",
       "  </tbody>\n",
       "</table>\n",
       "</div>"
      ],
      "text/plain": [
       "      price  area  bedrooms  bathrooms  stories mainroad guestroom basement  \\\n",
       "0  13300000  7420         4          2        3      yes        no       no   \n",
       "1  12250000  8960         4          4        4      yes        no       no   \n",
       "2  12250000  9960         3          2        2      yes        no      yes   \n",
       "3  12215000  7500         4          2        2      yes        no      yes   \n",
       "4  11410000  7420         4          1        2      yes       yes      yes   \n",
       "\n",
       "  hotwaterheating airconditioning  parking prefarea furnishingstatus  \n",
       "0              no             yes        2      yes        furnished  \n",
       "1              no             yes        3       no        furnished  \n",
       "2              no              no        2      yes   semi-furnished  \n",
       "3              no             yes        3      yes        furnished  \n",
       "4              no             yes        2       no        furnished  "
      ]
     },
     "execution_count": 28,
     "metadata": {},
     "output_type": "execute_result"
    }
   ],
   "source": [
    "remax = pd.read_csv('REMAX(1).csv') #reading the file and storing it under 'remax'\n",
    "remax.head()"
   ]
  },
  {
   "cell_type": "code",
   "execution_count": 29,
   "id": "3a48e440",
   "metadata": {},
   "outputs": [
    {
     "data": {
      "text/plain": [
       "price               0\n",
       "area                0\n",
       "bedrooms            0\n",
       "bathrooms           0\n",
       "stories             0\n",
       "mainroad            0\n",
       "guestroom           0\n",
       "basement            0\n",
       "hotwaterheating     0\n",
       "airconditioning     0\n",
       "parking             0\n",
       "prefarea            0\n",
       "furnishingstatus    0\n",
       "dtype: int64"
      ]
     },
     "execution_count": 29,
     "metadata": {},
     "output_type": "execute_result"
    }
   ],
   "source": [
    "remax.isnull().sum() #checking to see if any values are null "
   ]
  },
  {
   "cell_type": "code",
   "execution_count": 30,
   "id": "1eacf652",
   "metadata": {},
   "outputs": [
    {
     "name": "stdout",
     "output_type": "stream",
     "text": [
      "<class 'pandas.core.frame.DataFrame'>\n",
      "RangeIndex: 545 entries, 0 to 544\n",
      "Data columns (total 13 columns):\n",
      " #   Column            Non-Null Count  Dtype \n",
      "---  ------            --------------  ----- \n",
      " 0   price             545 non-null    int64 \n",
      " 1   area              545 non-null    int64 \n",
      " 2   bedrooms          545 non-null    int64 \n",
      " 3   bathrooms         545 non-null    int64 \n",
      " 4   stories           545 non-null    int64 \n",
      " 5   mainroad          545 non-null    object\n",
      " 6   guestroom         545 non-null    object\n",
      " 7   basement          545 non-null    object\n",
      " 8   hotwaterheating   545 non-null    object\n",
      " 9   airconditioning   545 non-null    object\n",
      " 10  parking           545 non-null    int64 \n",
      " 11  prefarea          545 non-null    object\n",
      " 12  furnishingstatus  545 non-null    object\n",
      "dtypes: int64(6), object(7)\n",
      "memory usage: 55.5+ KB\n"
     ]
    }
   ],
   "source": [
    "remax.info() #seeing the type of information is in the dataset"
   ]
  },
  {
   "cell_type": "code",
   "execution_count": 31,
   "id": "fe98a31d",
   "metadata": {},
   "outputs": [],
   "source": [
    "remax['mainroad'] = remax['mainroad'].map({'yes': 1, 'no': 0})\n",
    "remax['guestroom'] = remax['guestroom'].map({'yes': 1, 'no': 0})\n",
    "remax['basement'] = remax['basement'].map({'yes': 1, 'no': 0})\n",
    "remax['hotwaterheating'] = remax['hotwaterheating'].map({'yes': 1, 'no': 0})\n",
    "remax['airconditioning'] = remax['airconditioning'].map({'yes': 1, 'no': 0})\n",
    "remax['prefarea'] = remax['prefarea'].map({'yes': 1, 'no': 0})\n",
    "#converting the columns with values 'yes' & 'no' to 1's and 0's"
   ]
  },
  {
   "cell_type": "code",
   "execution_count": 32,
   "id": "2000466a",
   "metadata": {},
   "outputs": [],
   "source": [
    "x_features = remax.columns #storing the columns in x_features"
   ]
  },
  {
   "cell_type": "code",
   "execution_count": 33,
   "id": "6d5a8b8d",
   "metadata": {},
   "outputs": [],
   "source": [
    "x_features = ['area',\n",
    " 'bedrooms',\n",
    " 'bathrooms',\n",
    " 'stories',\n",
    " 'mainroad',\n",
    " 'guestroom',\n",
    " 'basement',\n",
    " 'hotwaterheating',\n",
    " 'airconditioning',\n",
    " 'parking',\n",
    " 'prefarea',\n",
    " 'furnishingstatus']\n",
    "#taking out price to not be stored in x_features since it is the dependent variable "
   ]
  },
  {
   "cell_type": "markdown",
   "id": "fb32d8d6",
   "metadata": {},
   "source": [
    "# Encoding Categorical Features"
   ]
  },
  {
   "cell_type": "code",
   "execution_count": 34,
   "id": "e869792c",
   "metadata": {},
   "outputs": [],
   "source": [
    "remax_encoded = pd.get_dummies(remax[x_features], columns = ['furnishingstatus'], drop_first = True) #transforming the 'furnishingstatus' column into a dummy variable"
   ]
  },
  {
   "cell_type": "code",
   "execution_count": 35,
   "id": "6800596d",
   "metadata": {},
   "outputs": [
    {
     "name": "stdout",
     "output_type": "stream",
     "text": [
      "<class 'pandas.core.frame.DataFrame'>\n",
      "RangeIndex: 545 entries, 0 to 544\n",
      "Data columns (total 13 columns):\n",
      " #   Column                           Non-Null Count  Dtype\n",
      "---  ------                           --------------  -----\n",
      " 0   area                             545 non-null    int64\n",
      " 1   bedrooms                         545 non-null    int64\n",
      " 2   bathrooms                        545 non-null    int64\n",
      " 3   stories                          545 non-null    int64\n",
      " 4   mainroad                         545 non-null    int64\n",
      " 5   guestroom                        545 non-null    int64\n",
      " 6   basement                         545 non-null    int64\n",
      " 7   hotwaterheating                  545 non-null    int64\n",
      " 8   airconditioning                  545 non-null    int64\n",
      " 9   parking                          545 non-null    int64\n",
      " 10  prefarea                         545 non-null    int64\n",
      " 11  furnishingstatus_semi-furnished  545 non-null    uint8\n",
      " 12  furnishingstatus_unfurnished     545 non-null    uint8\n",
      "dtypes: int64(11), uint8(2)\n",
      "memory usage: 48.0 KB\n"
     ]
    }
   ],
   "source": [
    "remax_encoded.info() #ensuring the type for all columns is int"
   ]
  },
  {
   "cell_type": "code",
   "execution_count": 36,
   "id": "29f19481",
   "metadata": {},
   "outputs": [
    {
     "data": {
      "text/plain": [
       "Index(['area', 'bedrooms', 'bathrooms', 'stories', 'mainroad', 'guestroom',\n",
       "       'basement', 'hotwaterheating', 'airconditioning', 'parking', 'prefarea',\n",
       "       'furnishingstatus_semi-furnished', 'furnishingstatus_unfurnished'],\n",
       "      dtype='object')"
      ]
     },
     "execution_count": 36,
     "metadata": {},
     "output_type": "execute_result"
    }
   ],
   "source": [
    "x_features = remax_encoded.columns #all independent varaibles \n",
    "x_features"
   ]
  },
  {
   "cell_type": "code",
   "execution_count": 37,
   "id": "1f918590",
   "metadata": {},
   "outputs": [],
   "source": [
    "import statsmodels.api as sm\n",
    "from sklearn.model_selection import train_test_split\n",
    "X = sm.add_constant(remax_encoded)\n",
    "Y = remax['price']\n",
    "train_X, test_X, train_y, test_y = train_test_split( X ,Y,train_size = 0.8,random_state = 40 )"
   ]
  },
  {
   "cell_type": "markdown",
   "id": "25e9cf27",
   "metadata": {},
   "source": [
    "# Model building based on training dataset"
   ]
  },
  {
   "cell_type": "code",
   "execution_count": 38,
   "id": "db5d275e",
   "metadata": {},
   "outputs": [
    {
     "name": "stdout",
     "output_type": "stream",
     "text": [
      "                            OLS Regression Results                            \n",
      "==============================================================================\n",
      "Dep. Variable:                  price   R-squared:                       0.688\n",
      "Model:                            OLS   Adj. R-squared:                  0.678\n",
      "Method:                 Least Squares   F-statistic:                     71.45\n",
      "Date:                Fri, 29 Apr 2022   Prob (F-statistic):           7.21e-98\n",
      "Time:                        17:30:02   Log-Likelihood:                -6647.6\n",
      "No. Observations:                 436   AIC:                         1.332e+04\n",
      "Df Residuals:                     422   BIC:                         1.338e+04\n",
      "Df Model:                          13                                         \n",
      "Covariance Type:            nonrobust                                         \n",
      "===================================================================================================\n",
      "                                      coef    std err          t      P>|t|      [0.025      0.975]\n",
      "---------------------------------------------------------------------------------------------------\n",
      "const                            1.932e+05   2.87e+05      0.673      0.501   -3.71e+05    7.58e+05\n",
      "area                              234.5583     25.923      9.048      0.000     183.603     285.513\n",
      "bedrooms                         7.644e+04   8.05e+04      0.950      0.343   -8.18e+04    2.35e+05\n",
      "bathrooms                        1.027e+06   1.13e+05      9.096      0.000    8.05e+05    1.25e+06\n",
      "stories                          4.153e+05   6.86e+04      6.051      0.000     2.8e+05     5.5e+05\n",
      "mainroad                          3.68e+05   1.53e+05      2.398      0.017    6.64e+04     6.7e+05\n",
      "guestroom                        3.841e+05   1.44e+05      2.660      0.008       1e+05    6.68e+05\n",
      "basement                         3.258e+05    1.2e+05      2.710      0.007    8.95e+04    5.62e+05\n",
      "hotwaterheating                  9.213e+05   2.41e+05      3.818      0.000    4.47e+05     1.4e+06\n",
      "airconditioning                  8.818e+05   1.17e+05      7.528      0.000    6.52e+05    1.11e+06\n",
      "parking                          2.702e+05   6.34e+04      4.265      0.000    1.46e+05    3.95e+05\n",
      "prefarea                         5.362e+05   1.23e+05      4.358      0.000    2.94e+05    7.78e+05\n",
      "furnishingstatus_semi-furnished  7.246e+04   1.27e+05      0.570      0.569   -1.78e+05    3.23e+05\n",
      "furnishingstatus_unfurnished    -3.693e+05   1.39e+05     -2.662      0.008   -6.42e+05   -9.67e+04\n",
      "==============================================================================\n",
      "Omnibus:                       71.997   Durbin-Watson:                   2.024\n",
      "Prob(Omnibus):                  0.000   Jarque-Bera (JB):              184.447\n",
      "Skew:                           0.815   Prob(JB):                     8.87e-41\n",
      "Kurtosis:                       5.738   Cond. No.                     3.55e+04\n",
      "==============================================================================\n",
      "\n",
      "Notes:\n",
      "[1] Standard Errors assume that the covariance matrix of the errors is correctly specified.\n",
      "[2] The condition number is large, 3.55e+04. This might indicate that there are\n",
      "strong multicollinearity or other numerical problems.\n"
     ]
    }
   ],
   "source": [
    "import statsmodels.api as sm\n",
    "from sklearn.model_selection import train_test_split\n",
    "remax_model_1 = sm.OLS(train_y, train_X).fit()\n",
    "print(remax_model_1.summary())\n",
    "#building the first model"
   ]
  },
  {
   "cell_type": "code",
   "execution_count": 39,
   "id": "57afcef6",
   "metadata": {},
   "outputs": [
    {
     "data": {
      "image/png": "[encoded data removed]",
      "text/plain": [
       "<Figure size 432x288 with 1 Axes>"
      ]
     },
     "metadata": {
      "needs_background": "light"
     },
     "output_type": "display_data"
    }
   ],
   "source": [
    "draw_pp_plot(remax_model_1,\"Figure - Normal P-P Plot of Regression Standardized Residuals\");\n",
    "#ploting the first model"
   ]
  },
  {
   "cell_type": "markdown",
   "id": "6ed94488",
   "metadata": {},
   "source": [
    "# Multicollinearity using VIF"
   ]
  },
  {
   "cell_type": "code",
   "execution_count": 40,
   "id": "61c94bbb",
   "metadata": {},
   "outputs": [],
   "source": [
    "from statsmodels.stats.outliers_influence import variance_inflation_factor\n",
    "def get_vif_factors( X ):\n",
    "    X_matrix = X.to_numpy()\n",
    "    vif = [ variance_inflation_factor( X_matrix, i ) for i in range( X_matrix.shape[1] ) ]\n",
    "    vif_factors = pd.DataFrame()\n",
    "    vif_factors['column'] = X.columns\n",
    "    vif_factors['vif'] = vif\n",
    "    return vif_factors"
   ]
  },
  {
   "cell_type": "code",
   "execution_count": 41,
   "id": "9d3de521",
   "metadata": {},
   "outputs": [
    {
     "data": {
      "text/html": [
       "<div>\n",
       "<style scoped>\n",
       "    .dataframe tbody tr th:only-of-type {\n",
       "        vertical-align: middle;\n",
       "    }\n",
       "\n",
       "    .dataframe tbody tr th {\n",
       "        vertical-align: top;\n",
       "    }\n",
       "\n",
       "    .dataframe thead th {\n",
       "        text-align: right;\n",
       "    }\n",
       "</style>\n",
       "<table border=\"1\" class=\"dataframe\">\n",
       "  <thead>\n",
       "    <tr style=\"text-align: right;\">\n",
       "      <th></th>\n",
       "      <th>column</th>\n",
       "      <th>vif</th>\n",
       "    </tr>\n",
       "  </thead>\n",
       "  <tbody>\n",
       "    <tr>\n",
       "      <th>0</th>\n",
       "      <td>area</td>\n",
       "      <td>8.276447</td>\n",
       "    </tr>\n",
       "    <tr>\n",
       "      <th>1</th>\n",
       "      <td>bedrooms</td>\n",
       "      <td>16.652387</td>\n",
       "    </tr>\n",
       "    <tr>\n",
       "      <th>2</th>\n",
       "      <td>bathrooms</td>\n",
       "      <td>9.417643</td>\n",
       "    </tr>\n",
       "    <tr>\n",
       "      <th>3</th>\n",
       "      <td>stories</td>\n",
       "      <td>7.880730</td>\n",
       "    </tr>\n",
       "    <tr>\n",
       "      <th>4</th>\n",
       "      <td>mainroad</td>\n",
       "      <td>6.884806</td>\n",
       "    </tr>\n",
       "    <tr>\n",
       "      <th>5</th>\n",
       "      <td>guestroom</td>\n",
       "      <td>1.473234</td>\n",
       "    </tr>\n",
       "    <tr>\n",
       "      <th>6</th>\n",
       "      <td>basement</td>\n",
       "      <td>2.019858</td>\n",
       "    </tr>\n",
       "    <tr>\n",
       "      <th>7</th>\n",
       "      <td>hotwaterheating</td>\n",
       "      <td>1.091568</td>\n",
       "    </tr>\n",
       "    <tr>\n",
       "      <th>8</th>\n",
       "      <td>airconditioning</td>\n",
       "      <td>1.767753</td>\n",
       "    </tr>\n",
       "    <tr>\n",
       "      <th>9</th>\n",
       "      <td>parking</td>\n",
       "      <td>1.986400</td>\n",
       "    </tr>\n",
       "    <tr>\n",
       "      <th>10</th>\n",
       "      <td>prefarea</td>\n",
       "      <td>1.494211</td>\n",
       "    </tr>\n",
       "    <tr>\n",
       "      <th>11</th>\n",
       "      <td>furnishingstatus_semi-furnished</td>\n",
       "      <td>2.386831</td>\n",
       "    </tr>\n",
       "    <tr>\n",
       "      <th>12</th>\n",
       "      <td>furnishingstatus_unfurnished</td>\n",
       "      <td>2.008632</td>\n",
       "    </tr>\n",
       "  </tbody>\n",
       "</table>\n",
       "</div>"
      ],
      "text/plain": [
       "                             column        vif\n",
       "0                              area   8.276447\n",
       "1                          bedrooms  16.652387\n",
       "2                         bathrooms   9.417643\n",
       "3                           stories   7.880730\n",
       "4                          mainroad   6.884806\n",
       "5                         guestroom   1.473234\n",
       "6                          basement   2.019858\n",
       "7                   hotwaterheating   1.091568\n",
       "8                   airconditioning   1.767753\n",
       "9                           parking   1.986400\n",
       "10                         prefarea   1.494211\n",
       "11  furnishingstatus_semi-furnished   2.386831\n",
       "12     furnishingstatus_unfurnished   2.008632"
      ]
     },
     "execution_count": 41,
     "metadata": {},
     "output_type": "execute_result"
    }
   ],
   "source": [
    "vif_factors = get_vif_factors(X[x_features])\n",
    "vif_factors\n",
    "#retrieving the VIF value for all columns "
   ]
  },
  {
   "cell_type": "code",
   "execution_count": 42,
   "id": "807a8f62",
   "metadata": {},
   "outputs": [
    {
     "data": {
      "text/plain": [
       "0         area\n",
       "1     bedrooms\n",
       "2    bathrooms\n",
       "3      stories\n",
       "4     mainroad\n",
       "Name: column, dtype: object"
      ]
     },
     "execution_count": 42,
     "metadata": {},
     "output_type": "execute_result"
    }
   ],
   "source": [
    "columns_with_large_vif = vif_factors[vif_factors.vif > 4].column\n",
    "columns_with_large_vif\n",
    "#determining which columns have the highest VIF value "
   ]
  },
  {
   "cell_type": "code",
   "execution_count": 43,
   "id": "de6c7686",
   "metadata": {},
   "outputs": [],
   "source": [
    "columns_to_be_removed = ['bedrooms', 'bathrooms']\n",
    "#removing the first two columns with the highest VIF value since we do not want to remove the columns with the highest VIF value at once"
   ]
  },
  {
   "cell_type": "code",
   "execution_count": 44,
   "id": "eb676f5a",
   "metadata": {},
   "outputs": [],
   "source": [
    "x_new_features = list(set(x_features) - set(columns_to_be_removed))\n",
    "#creating a new x_features that does not include the columns with the highest VIF value (bedrooms & bathrooms)"
   ]
  },
  {
   "cell_type": "code",
   "execution_count": 45,
   "id": "299ad9a2",
   "metadata": {},
   "outputs": [
    {
     "data": {
      "text/html": [
       "<div>\n",
       "<style scoped>\n",
       "    .dataframe tbody tr th:only-of-type {\n",
       "        vertical-align: middle;\n",
       "    }\n",
       "\n",
       "    .dataframe tbody tr th {\n",
       "        vertical-align: top;\n",
       "    }\n",
       "\n",
       "    .dataframe thead th {\n",
       "        text-align: right;\n",
       "    }\n",
       "</style>\n",
       "<table border=\"1\" class=\"dataframe\">\n",
       "  <thead>\n",
       "    <tr style=\"text-align: right;\">\n",
       "      <th></th>\n",
       "      <th>column</th>\n",
       "      <th>vif</th>\n",
       "    </tr>\n",
       "  </thead>\n",
       "  <tbody>\n",
       "    <tr>\n",
       "      <th>0</th>\n",
       "      <td>prefarea</td>\n",
       "      <td>1.489922</td>\n",
       "    </tr>\n",
       "    <tr>\n",
       "      <th>1</th>\n",
       "      <td>airconditioning</td>\n",
       "      <td>1.763784</td>\n",
       "    </tr>\n",
       "    <tr>\n",
       "      <th>2</th>\n",
       "      <td>furnishingstatus_semi-furnished</td>\n",
       "      <td>2.182030</td>\n",
       "    </tr>\n",
       "    <tr>\n",
       "      <th>3</th>\n",
       "      <td>furnishingstatus_unfurnished</td>\n",
       "      <td>1.818767</td>\n",
       "    </tr>\n",
       "    <tr>\n",
       "      <th>4</th>\n",
       "      <td>guestroom</td>\n",
       "      <td>1.468723</td>\n",
       "    </tr>\n",
       "    <tr>\n",
       "      <th>5</th>\n",
       "      <td>area</td>\n",
       "      <td>7.116608</td>\n",
       "    </tr>\n",
       "    <tr>\n",
       "      <th>6</th>\n",
       "      <td>basement</td>\n",
       "      <td>1.829024</td>\n",
       "    </tr>\n",
       "    <tr>\n",
       "      <th>7</th>\n",
       "      <td>parking</td>\n",
       "      <td>1.967207</td>\n",
       "    </tr>\n",
       "    <tr>\n",
       "      <th>8</th>\n",
       "      <td>mainroad</td>\n",
       "      <td>6.709752</td>\n",
       "    </tr>\n",
       "    <tr>\n",
       "      <th>9</th>\n",
       "      <td>hotwaterheating</td>\n",
       "      <td>1.085384</td>\n",
       "    </tr>\n",
       "    <tr>\n",
       "      <th>10</th>\n",
       "      <td>stories</td>\n",
       "      <td>4.942363</td>\n",
       "    </tr>\n",
       "  </tbody>\n",
       "</table>\n",
       "</div>"
      ],
      "text/plain": [
       "                             column       vif\n",
       "0                          prefarea  1.489922\n",
       "1                   airconditioning  1.763784\n",
       "2   furnishingstatus_semi-furnished  2.182030\n",
       "3      furnishingstatus_unfurnished  1.818767\n",
       "4                         guestroom  1.468723\n",
       "5                              area  7.116608\n",
       "6                          basement  1.829024\n",
       "7                           parking  1.967207\n",
       "8                          mainroad  6.709752\n",
       "9                   hotwaterheating  1.085384\n",
       "10                          stories  4.942363"
      ]
     },
     "execution_count": 45,
     "metadata": {},
     "output_type": "execute_result"
    }
   ],
   "source": [
    "get_vif_factors(X[x_new_features])"
   ]
  },
  {
   "cell_type": "markdown",
   "id": "0ee5468a",
   "metadata": {},
   "source": [
    "# New model after removing multicollinearity"
   ]
  },
  {
   "cell_type": "code",
   "execution_count": 46,
   "id": "b85cd113",
   "metadata": {},
   "outputs": [
    {
     "name": "stdout",
     "output_type": "stream",
     "text": [
      "                                 OLS Regression Results                                \n",
      "=======================================================================================\n",
      "Dep. Variable:                  price   R-squared (uncentered):                   0.949\n",
      "Model:                            OLS   Adj. R-squared (uncentered):              0.948\n",
      "Method:                 Least Squares   F-statistic:                              717.1\n",
      "Date:                Fri, 29 Apr 2022   Prob (F-statistic):                   1.83e-266\n",
      "Time:                        17:30:47   Log-Likelihood:                         -6700.8\n",
      "No. Observations:                 436   AIC:                                  1.342e+04\n",
      "Df Residuals:                     425   BIC:                                  1.347e+04\n",
      "Df Model:                          11                                                  \n",
      "Covariance Type:            nonrobust                                                  \n",
      "===================================================================================================\n",
      "                                      coef    std err          t      P>|t|      [0.025      0.975]\n",
      "---------------------------------------------------------------------------------------------------\n",
      "prefarea                         4.667e+05   1.38e+05      3.375      0.001    1.95e+05    7.38e+05\n",
      "airconditioning                  9.238e+05   1.32e+05      7.014      0.000    6.65e+05    1.18e+06\n",
      "furnishingstatus_semi-furnished  3.031e+05   1.27e+05      2.393      0.017    5.42e+04    5.52e+05\n",
      "furnishingstatus_unfurnished    -9.015e+04   1.33e+05     -0.676      0.499   -3.52e+05    1.72e+05\n",
      "guestroom                        3.657e+05   1.62e+05      2.254      0.025    4.68e+04    6.85e+05\n",
      "area                              330.9319     26.177     12.642      0.000     279.480     382.384\n",
      "basement                         6.661e+05   1.28e+05      5.196      0.000    4.14e+05    9.18e+05\n",
      "parking                           3.18e+05   7.08e+04      4.494      0.000    1.79e+05    4.57e+05\n",
      "mainroad                         6.042e+05   1.56e+05      3.862      0.000    2.97e+05    9.12e+05\n",
      "hotwaterheating                  1.264e+06   2.69e+05      4.708      0.000    7.36e+05    1.79e+06\n",
      "stories                          7.581e+05   6.11e+04     12.412      0.000    6.38e+05    8.78e+05\n",
      "==============================================================================\n",
      "Omnibus:                       33.330   Durbin-Watson:                   1.964\n",
      "Prob(Omnibus):                  0.000   Jarque-Bera (JB):               72.091\n",
      "Skew:                           0.419   Prob(JB):                     2.22e-16\n",
      "Kurtosis:                       4.807   Cond. No.                     2.74e+04\n",
      "==============================================================================\n",
      "\n",
      "Notes:\n",
      "[1] R² is computed without centering (uncentered) since the model does not contain a constant.\n",
      "[2] Standard Errors assume that the covariance matrix of the errors is correctly specified.\n",
      "[3] The condition number is large, 2.74e+04. This might indicate that there are\n",
      "strong multicollinearity or other numerical problems.\n"
     ]
    }
   ],
   "source": [
    "train_X = train_X[x_new_features]\n",
    "remax_model_2 = sm.OLS(train_y, train_X).fit()\n",
    "print(remax_model_2.summary())\n",
    "#2nd model without bedrooms and bathrooms as a column in the dataset"
   ]
  },
  {
   "cell_type": "code",
   "execution_count": 47,
   "id": "bb36da46",
   "metadata": {},
   "outputs": [
    {
     "data": {
      "image/png": "[encoded data removed]",
      "text/plain": [
       "<Figure size 432x288 with 1 Axes>"
      ]
     },
     "metadata": {
      "needs_background": "light"
     },
     "output_type": "display_data"
    }
   ],
   "source": [
    "draw_pp_plot(remax_model_2,\"Figure - Normal P-P Plot of Regression Standardized Residuals\");\n",
    "#plotting the second model"
   ]
  },
  {
   "cell_type": "code",
   "execution_count": 48,
   "id": "84fa327e",
   "metadata": {},
   "outputs": [
    {
     "name": "stdout",
     "output_type": "stream",
     "text": [
      "                                 OLS Regression Results                                \n",
      "=======================================================================================\n",
      "Dep. Variable:                  price   R-squared (uncentered):                   0.949\n",
      "Model:                            OLS   Adj. R-squared (uncentered):              0.948\n",
      "Method:                 Least Squares   F-statistic:                              789.8\n",
      "Date:                Fri, 29 Apr 2022   Prob (F-statistic):                   7.96e-268\n",
      "Time:                        17:30:48   Log-Likelihood:                         -6701.1\n",
      "No. Observations:                 436   AIC:                                  1.342e+04\n",
      "Df Residuals:                     426   BIC:                                  1.346e+04\n",
      "Df Model:                          10                                                  \n",
      "Covariance Type:            nonrobust                                                  \n",
      "===================================================================================================\n",
      "                                      coef    std err          t      P>|t|      [0.025      0.975]\n",
      "---------------------------------------------------------------------------------------------------\n",
      "prefarea                         4.757e+05   1.38e+05      3.459      0.001    2.05e+05    7.46e+05\n",
      "mainroad                         5.802e+05   1.52e+05      3.810      0.000    2.81e+05     8.8e+05\n",
      "furnishingstatus_semi-furnished  3.453e+05    1.1e+05      3.134      0.002    1.29e+05    5.62e+05\n",
      "parking                          3.244e+05   7.01e+04      4.629      0.000    1.87e+05    4.62e+05\n",
      "hotwaterheating                  1.263e+06   2.68e+05      4.706      0.000    7.35e+05    1.79e+06\n",
      "airconditioning                  9.349e+05   1.31e+05      7.159      0.000    6.78e+05    1.19e+06\n",
      "basement                         6.588e+05   1.28e+05      5.160      0.000    4.08e+05     9.1e+05\n",
      "area                              326.9302     25.482     12.830      0.000     276.844     377.017\n",
      "guestroom                        3.818e+05    1.6e+05      2.380      0.018    6.64e+04    6.97e+05\n",
      "stories                          7.521e+05   6.04e+04     12.455      0.000    6.33e+05    8.71e+05\n",
      "==============================================================================\n",
      "Omnibus:                       34.925   Durbin-Watson:                   1.970\n",
      "Prob(Omnibus):                  0.000   Jarque-Bera (JB):               76.277\n",
      "Skew:                           0.437   Prob(JB):                     2.73e-17\n",
      "Kurtosis:                       4.853   Cond. No.                     2.74e+04\n",
      "==============================================================================\n",
      "\n",
      "Notes:\n",
      "[1] R² is computed without centering (uncentered) since the model does not contain a constant.\n",
      "[2] Standard Errors assume that the covariance matrix of the errors is correctly specified.\n",
      "[3] The condition number is large, 2.74e+04. This might indicate that there are\n",
      "strong multicollinearity or other numerical problems.\n"
     ]
    }
   ],
   "source": [
    "significant_vars = ['prefarea', 'mainroad', 'furnishingstatus_semi-furnished', 'parking', 'hotwaterheating','airconditioning','basement', 'area', 'guestroom', 'stories']\n",
    "train_X = train_X[significant_vars]\n",
    "remax_model_3 = sm.OLS(train_y, train_X).fit()\n",
    "print(remax_model_3.summary())\n",
    "#developing a third model without columns furinishingstatus_unfurnished since the p-value was 0.499 which is above 0.05 meaning it was insignificant in the model"
   ]
  },
  {
   "cell_type": "code",
   "execution_count": 49,
   "id": "45987c45",
   "metadata": {},
   "outputs": [
    {
     "data": {
      "image/png": "[encoded data removed]",
      "text/plain": [
       "<Figure size 432x288 with 1 Axes>"
      ]
     },
     "metadata": {
      "needs_background": "light"
     },
     "output_type": "display_data"
    }
   ],
   "source": [
    "draw_pp_plot(remax_model_3,\"Figure - Normal P-P Plot of Regression Standardized Residuals\");\n",
    "#plotting the third model"
   ]
  },
  {
   "cell_type": "code",
   "execution_count": 50,
   "id": "3d5f0899",
   "metadata": {},
   "outputs": [],
   "source": [
    "from scipy.stats import zscore\n",
    "remax['z_score_price'] = zscore(remax['price'])"
   ]
  },
  {
   "cell_type": "code",
   "execution_count": 51,
   "id": "433b3708",
   "metadata": {},
   "outputs": [
    {
     "data": {
      "text/html": [
       "<div>\n",
       "<style scoped>\n",
       "    .dataframe tbody tr th:only-of-type {\n",
       "        vertical-align: middle;\n",
       "    }\n",
       "\n",
       "    .dataframe tbody tr th {\n",
       "        vertical-align: top;\n",
       "    }\n",
       "\n",
       "    .dataframe thead th {\n",
       "        text-align: right;\n",
       "    }\n",
       "</style>\n",
       "<table border=\"1\" class=\"dataframe\">\n",
       "  <thead>\n",
       "    <tr style=\"text-align: right;\">\n",
       "      <th></th>\n",
       "      <th>price</th>\n",
       "      <th>area</th>\n",
       "      <th>bedrooms</th>\n",
       "      <th>bathrooms</th>\n",
       "      <th>stories</th>\n",
       "      <th>mainroad</th>\n",
       "      <th>guestroom</th>\n",
       "      <th>basement</th>\n",
       "      <th>hotwaterheating</th>\n",
       "      <th>airconditioning</th>\n",
       "      <th>parking</th>\n",
       "      <th>prefarea</th>\n",
       "      <th>furnishingstatus</th>\n",
       "      <th>z_score_price</th>\n",
       "    </tr>\n",
       "  </thead>\n",
       "  <tbody>\n",
       "    <tr>\n",
       "      <th>0</th>\n",
       "      <td>13300000</td>\n",
       "      <td>7420</td>\n",
       "      <td>4</td>\n",
       "      <td>2</td>\n",
       "      <td>3</td>\n",
       "      <td>1</td>\n",
       "      <td>0</td>\n",
       "      <td>0</td>\n",
       "      <td>0</td>\n",
       "      <td>1</td>\n",
       "      <td>2</td>\n",
       "      <td>1</td>\n",
       "      <td>furnished</td>\n",
       "      <td>4.566365</td>\n",
       "    </tr>\n",
       "    <tr>\n",
       "      <th>1</th>\n",
       "      <td>12250000</td>\n",
       "      <td>8960</td>\n",
       "      <td>4</td>\n",
       "      <td>4</td>\n",
       "      <td>4</td>\n",
       "      <td>1</td>\n",
       "      <td>0</td>\n",
       "      <td>0</td>\n",
       "      <td>0</td>\n",
       "      <td>1</td>\n",
       "      <td>3</td>\n",
       "      <td>0</td>\n",
       "      <td>furnished</td>\n",
       "      <td>4.004484</td>\n",
       "    </tr>\n",
       "    <tr>\n",
       "      <th>2</th>\n",
       "      <td>12250000</td>\n",
       "      <td>9960</td>\n",
       "      <td>3</td>\n",
       "      <td>2</td>\n",
       "      <td>2</td>\n",
       "      <td>1</td>\n",
       "      <td>0</td>\n",
       "      <td>1</td>\n",
       "      <td>0</td>\n",
       "      <td>0</td>\n",
       "      <td>2</td>\n",
       "      <td>1</td>\n",
       "      <td>semi-furnished</td>\n",
       "      <td>4.004484</td>\n",
       "    </tr>\n",
       "    <tr>\n",
       "      <th>3</th>\n",
       "      <td>12215000</td>\n",
       "      <td>7500</td>\n",
       "      <td>4</td>\n",
       "      <td>2</td>\n",
       "      <td>2</td>\n",
       "      <td>1</td>\n",
       "      <td>0</td>\n",
       "      <td>1</td>\n",
       "      <td>0</td>\n",
       "      <td>1</td>\n",
       "      <td>3</td>\n",
       "      <td>1</td>\n",
       "      <td>furnished</td>\n",
       "      <td>3.985755</td>\n",
       "    </tr>\n",
       "    <tr>\n",
       "      <th>4</th>\n",
       "      <td>11410000</td>\n",
       "      <td>7420</td>\n",
       "      <td>4</td>\n",
       "      <td>1</td>\n",
       "      <td>2</td>\n",
       "      <td>1</td>\n",
       "      <td>1</td>\n",
       "      <td>1</td>\n",
       "      <td>0</td>\n",
       "      <td>1</td>\n",
       "      <td>2</td>\n",
       "      <td>0</td>\n",
       "      <td>furnished</td>\n",
       "      <td>3.554979</td>\n",
       "    </tr>\n",
       "    <tr>\n",
       "      <th>5</th>\n",
       "      <td>10850000</td>\n",
       "      <td>7500</td>\n",
       "      <td>3</td>\n",
       "      <td>3</td>\n",
       "      <td>1</td>\n",
       "      <td>1</td>\n",
       "      <td>0</td>\n",
       "      <td>1</td>\n",
       "      <td>0</td>\n",
       "      <td>1</td>\n",
       "      <td>2</td>\n",
       "      <td>1</td>\n",
       "      <td>semi-furnished</td>\n",
       "      <td>3.255309</td>\n",
       "    </tr>\n",
       "  </tbody>\n",
       "</table>\n",
       "</div>"
      ],
      "text/plain": [
       "      price  area  bedrooms  bathrooms  stories  mainroad  guestroom  \\\n",
       "0  13300000  7420         4          2        3         1          0   \n",
       "1  12250000  8960         4          4        4         1          0   \n",
       "2  12250000  9960         3          2        2         1          0   \n",
       "3  12215000  7500         4          2        2         1          0   \n",
       "4  11410000  7420         4          1        2         1          1   \n",
       "5  10850000  7500         3          3        1         1          0   \n",
       "\n",
       "   basement  hotwaterheating  airconditioning  parking  prefarea  \\\n",
       "0         0                0                1        2         1   \n",
       "1         0                0                1        3         0   \n",
       "2         1                0                0        2         1   \n",
       "3         1                0                1        3         1   \n",
       "4         1                0                1        2         0   \n",
       "5         1                0                1        2         1   \n",
       "\n",
       "  furnishingstatus  z_score_price  \n",
       "0        furnished       4.566365  \n",
       "1        furnished       4.004484  \n",
       "2   semi-furnished       4.004484  \n",
       "3        furnished       3.985755  \n",
       "4        furnished       3.554979  \n",
       "5   semi-furnished       3.255309  "
      ]
     },
     "execution_count": 51,
     "metadata": {},
     "output_type": "execute_result"
    }
   ],
   "source": [
    "remax[ (remax.z_score_price > 3.0) | (remax.z_score_price < -3.0) ]\n",
    "#retrieving the z-score "
   ]
  },
  {
   "cell_type": "code",
   "execution_count": 52,
   "id": "42d217db",
   "metadata": {},
   "outputs": [],
   "source": [
    "train_X_new = train_X.drop( [50,111,127],axis=0)\n",
    "train_y_new = train_y.drop( [50,111,127],axis=0)"
   ]
  },
  {
   "cell_type": "code",
   "execution_count": 53,
   "id": "86959806",
   "metadata": {},
   "outputs": [],
   "source": [
    "import numpy as np\n",
    "train_y = np.sqrt( train_y )"
   ]
  },
  {
   "cell_type": "code",
   "execution_count": 54,
   "id": "e7e56014",
   "metadata": {},
   "outputs": [
    {
     "name": "stdout",
     "output_type": "stream",
     "text": [
      "                                 OLS Regression Results                                \n",
      "=======================================================================================\n",
      "Dep. Variable:                  price   R-squared (uncentered):                   0.966\n",
      "Model:                            OLS   Adj. R-squared (uncentered):              0.965\n",
      "Method:                 Least Squares   F-statistic:                              1215.\n",
      "Date:                Fri, 29 Apr 2022   Prob (F-statistic):                   5.89e-306\n",
      "Time:                        17:30:51   Log-Likelihood:                         -3231.0\n",
      "No. Observations:                 436   AIC:                                      6482.\n",
      "Df Residuals:                     426   BIC:                                      6523.\n",
      "Df Model:                          10                                                  \n",
      "Covariance Type:            nonrobust                                                  \n",
      "===================================================================================================\n",
      "                                      coef    std err          t      P>|t|      [0.025      0.975]\n",
      "---------------------------------------------------------------------------------------------------\n",
      "prefarea                           45.9212     48.070      0.955      0.340     -48.563     140.405\n",
      "mainroad                          532.0405     53.229      9.995      0.000     427.416     636.665\n",
      "furnishingstatus_semi-furnished   220.8755     38.508      5.736      0.000     145.186     296.565\n",
      "parking                            30.9351     24.494      1.263      0.207     -17.209      79.080\n",
      "hotwaterheating                   359.0563     93.799      3.828      0.000     174.690     543.423\n",
      "airconditioning                   159.4287     45.649      3.492      0.001      69.703     249.154\n",
      "basement                          317.1866     44.625      7.108      0.000     229.474     404.899\n",
      "area                                0.1366      0.009     15.335      0.000       0.119       0.154\n",
      "guestroom                         -12.8082     56.077     -0.228      0.819    -123.031      97.414\n",
      "stories                           326.4202     21.105     15.466      0.000     284.937     367.904\n",
      "==============================================================================\n",
      "Omnibus:                        3.697   Durbin-Watson:                   1.836\n",
      "Prob(Omnibus):                  0.157   Jarque-Bera (JB):                4.175\n",
      "Skew:                          -0.075   Prob(JB):                        0.124\n",
      "Kurtosis:                       3.455   Cond. No.                     2.74e+04\n",
      "==============================================================================\n",
      "\n",
      "Notes:\n",
      "[1] R² is computed without centering (uncentered) since the model does not contain a constant.\n",
      "[2] Standard Errors assume that the covariance matrix of the errors is correctly specified.\n",
      "[3] The condition number is large, 2.74e+04. This might indicate that there are\n",
      "strong multicollinearity or other numerical problems.\n"
     ]
    }
   ],
   "source": [
    "remax_model_4 = sm.OLS(train_y, train_X).fit()\n",
    "print(remax_model_4.summary())\n",
    "#developing a fourth model based on z-scores"
   ]
  },
  {
   "cell_type": "code",
   "execution_count": 55,
   "id": "224e95c2",
   "metadata": {},
   "outputs": [
    {
     "data": {
      "image/png": "[encoded data removed]",
      "text/plain": [
       "<Figure size 432x288 with 1 Axes>"
      ]
     },
     "metadata": {
      "needs_background": "light"
     },
     "output_type": "display_data"
    }
   ],
   "source": [
    "draw_pp_plot(remax_model_4,\"Figure - Normal P-P Plot of Regression Standardized Residuals\");\n",
    "#plotting the fourth plot"
   ]
  },
  {
   "cell_type": "code",
   "execution_count": 56,
   "id": "cdd62d4e",
   "metadata": {},
   "outputs": [
    {
     "name": "stdout",
     "output_type": "stream",
     "text": [
      "                                 OLS Regression Results                                \n",
      "=======================================================================================\n",
      "Dep. Variable:                  price   R-squared (uncentered):                   0.966\n",
      "Model:                            OLS   Adj. R-squared (uncentered):              0.965\n",
      "Method:                 Least Squares   F-statistic:                              1737.\n",
      "Date:                Fri, 29 Apr 2022   Prob (F-statistic):                   3.34e-310\n",
      "Time:                        17:30:52   Log-Likelihood:                         -3232.3\n",
      "No. Observations:                 436   AIC:                                      6479.\n",
      "Df Residuals:                     429   BIC:                                      6507.\n",
      "Df Model:                           7                                                  \n",
      "Covariance Type:            nonrobust                                                  \n",
      "===================================================================================================\n",
      "                                      coef    std err          t      P>|t|      [0.025      0.975]\n",
      "---------------------------------------------------------------------------------------------------\n",
      "mainroad                          543.2924     52.688     10.312      0.000     439.734     646.851\n",
      "furnishingstatus_semi-furnished   220.5262     38.424      5.739      0.000     145.003     296.050\n",
      "hotwaterheating                   363.1646     93.424      3.887      0.000     179.538     546.791\n",
      "airconditioning                   166.5795     45.170      3.688      0.000      77.796     255.362\n",
      "basement                          321.1671     40.930      7.847      0.000     240.720     401.615\n",
      "area                                0.1407      0.008     16.688      0.000       0.124       0.157\n",
      "stories                           324.1828     21.033     15.413      0.000     282.842     365.524\n",
      "==============================================================================\n",
      "Omnibus:                        3.238   Durbin-Watson:                   1.827\n",
      "Prob(Omnibus):                  0.198   Jarque-Bera (JB):                3.424\n",
      "Skew:                          -0.088   Prob(JB):                        0.181\n",
      "Kurtosis:                       3.397   Cond. No.                     2.73e+04\n",
      "==============================================================================\n",
      "\n",
      "Notes:\n",
      "[1] R² is computed without centering (uncentered) since the model does not contain a constant.\n",
      "[2] Standard Errors assume that the covariance matrix of the errors is correctly specified.\n",
      "[3] The condition number is large, 2.73e+04. This might indicate that there are\n",
      "strong multicollinearity or other numerical problems.\n"
     ]
    }
   ],
   "source": [
    "significant_vars1 = ['mainroad', 'furnishingstatus_semi-furnished', 'hotwaterheating','airconditioning','basement', 'area', 'stories']\n",
    "train_X = train_X[significant_vars1]\n",
    "remax_model_5 = sm.OLS(train_y, train_X).fit()\n",
    "print(remax_model_5.summary())\n",
    "#developing a fifth model by removing prefarea, parking, and guestroom because each column had a p-value above 0.05 meaning it was insignificant"
   ]
  },
  {
   "cell_type": "code",
   "execution_count": 57,
   "id": "fc945a80",
   "metadata": {},
   "outputs": [
    {
     "data": {
      "image/png": "[encoded data removed]",
      "text/plain": [
       "<Figure size 432x288 with 1 Axes>"
      ]
     },
     "metadata": {
      "needs_background": "light"
     },
     "output_type": "display_data"
    }
   ],
   "source": [
    "draw_pp_plot(remax_model_5,\"Figure - Normal P-P Plot of Regression Standardized Residuals\");\n",
    "#plotting the fifth and final model "
   ]
  },
  {
   "cell_type": "markdown",
   "id": "0d45f991",
   "metadata": {},
   "source": [
    "# Prediction on validation set"
   ]
  },
  {
   "cell_type": "code",
   "execution_count": 58,
   "id": "abf9d7fa",
   "metadata": {},
   "outputs": [],
   "source": [
    "import numpy as np\n",
    "pred_y = np.power(remax_model_5.predict( test_X[train_X.columns] ), 2)"
   ]
  },
  {
   "cell_type": "markdown",
   "id": "39c6134a",
   "metadata": {},
   "source": [
    "# RMSE"
   ]
  },
  {
   "cell_type": "code",
   "execution_count": 59,
   "id": "559297b3",
   "metadata": {},
   "outputs": [
    {
     "data": {
      "text/plain": [
       "1778059.45011176"
      ]
     },
     "execution_count": 59,
     "metadata": {},
     "output_type": "execute_result"
    }
   ],
   "source": [
    "from sklearn import metrics\n",
    "np.sqrt(metrics.mean_squared_error(pred_y, test_y))\n",
    "#root mean square error"
   ]
  },
  {
   "cell_type": "markdown",
   "id": "049aace1",
   "metadata": {},
   "source": [
    "# Measuring R-Squared Value "
   ]
  },
  {
   "cell_type": "code",
   "execution_count": 60,
   "id": "ebb2c68b",
   "metadata": {},
   "outputs": [
    {
     "data": {
      "text/plain": [
       "0.44"
      ]
     },
     "execution_count": 60,
     "metadata": {},
     "output_type": "execute_result"
    }
   ],
   "source": [
    "np.round( metrics.r2_score(pred_y, test_y), 2 )\n",
    "#R^2 value"
   ]
  },
  {
   "cell_type": "markdown",
   "id": "d648930f",
   "metadata": {},
   "source": [
    "# RE/MAX Analysis "
   ]
  },
  {
   "cell_type": "raw",
   "id": "473275db",
   "metadata": {},
   "source": [
    "As we updated our model, variables with low p-values and high multicollinarity needed to be removed. Variables with high multicollinearity were those with VIF values above 4 and variables with high p-values were those with a p-value above 0.05. Once these variables have been removed, the final variables that impact most to the price include: mainroad, furnishingstatus_semi-furnished, hotwaterheating, airconditioning, basement, area, and stories. Each of these variables have a p-value below 0.05, meaning that each is significant in predicting the price. Additionally, the R-Squared of the model is 0.966 meaning that 96.6% of the variation in price can be accounted for by the least squares regression line. \n"
   ]
  }
 ],
 "metadata": {
  "kernelspec": {
   "display_name": "Python 3",
   "language": "python",
   "name": "python3"
  },
  "language_info": {
   "codemirror_mode": {
    "name": "ipython",
    "version": 3
   },
   "file_extension": ".py",
   "mimetype": "text/x-python",
   "name": "python",
   "nbconvert_exporter": "python",
   "pygments_lexer": "ipython3",
   "version": "3.8.8"
  }
 },
 "nbformat": 4,
 "nbformat_minor": 5
}
