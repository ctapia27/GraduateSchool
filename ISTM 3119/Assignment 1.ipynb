{
 "cells": [
  {
   "cell_type": "code",
   "execution_count": 1,
   "id": "d8f99aa6",
   "metadata": {},
   "outputs": [
    {
     "name": "stdout",
     "output_type": "stream",
     "text": [
      "Enter a number: 1\n",
      "Enter a second number: 2\n",
      "The arithmetic mean is 1.5!\n"
     ]
    }
   ],
   "source": [
    "#question 1 \n",
    "num1 = int(input(\"Enter a number: \"))\n",
    "num2 = int(input(\"Enter a second number: \"))\n",
    "\n",
    "mean = (num1 + num2)/2 \n",
    "print(\"The arithmetic mean is \" + str(mean)+ \"!\")"
   ]
  },
  {
   "cell_type": "code",
   "execution_count": 1,
   "id": "944735ad",
   "metadata": {},
   "outputs": [
    {
     "name": "stdout",
     "output_type": "stream",
     "text": [
      "Enter your annual income with 2 decimial places: 35000.00\n",
      "Your tax due is 7000.0\n"
     ]
    }
   ],
   "source": [
    "#question 2\n",
    "income = float(input(\"Enter your annual income with 2 decimial places: \"))\n",
    "\n",
    "if income <= 10000.99:\n",
    "    rate = 0\n",
    "elif income <= 25000.99:\n",
    "    rate = 0.1\n",
    "elif income <= 50000.99:\n",
    "    rate = 0.2\n",
    "elif income <= 100000.99:\n",
    "    rate = 0.3\n",
    "else:\n",
    "    rate = 0.4\n",
    "print(\"Your tax due is\", income*rate)"
   ]
  },
  {
   "cell_type": "code",
   "execution_count": 2,
   "id": "89fe1e1b",
   "metadata": {},
   "outputs": [
    {
     "name": "stdout",
     "output_type": "stream",
     "text": [
      "Enter an integer: 27\n",
      "Divisible by only 3.\n"
     ]
    }
   ],
   "source": [
    "#question 3 \n",
    "num = int(input(\"Enter an integer: \"))\n",
    "\n",
    "if num%3==0 and num%5 == 0:\n",
    "    print(\"Divisible by both 3 and 5.\")\n",
    "elif num%3==0:\n",
    "    print(\"Divisible by only 3.\")\n",
    "elif num%5==0:\n",
    "    print(\"Divisible by only 5.\")\n",
    "else: \n",
    "    print(\"Not divisible by 3 or 5.\")"
   ]
  },
  {
   "cell_type": "code",
   "execution_count": 4,
   "id": "29f56eb3",
   "metadata": {},
   "outputs": [
    {
     "name": "stdout",
     "output_type": "stream",
     "text": [
      "How many edges does the shape have, 3 or 4?: 4\n",
      "Is this shape a square, yes or no? Indicate yes/no in lowercase: no\n",
      "Enter the length: 8\n",
      "Enter the width: 4\n",
      "The shape is a rectangle and the area is 32.0.\n"
     ]
    }
   ],
   "source": [
    "#question 4\n",
    "\n",
    "edges = int(input(\"How many edges does the shape have, 3 or 4?: \"))\n",
    "\n",
    "if edges == 3:\n",
    "    base = float(input(\"Enter the base: \"))\n",
    "    height = float(input(\"Enter the height: \"))\n",
    "    print(\"The shape is a triangle and the area is \" + str(0.5*base*height) + \".\")\n",
    "else:\n",
    "    shape = input(\"Is this shape a square, yes or no? Indicate yes/no in lowercase: \")\n",
    "    if shape == (\"yes\"):\n",
    "        side = float(input(\"Enter the side: \"))\n",
    "        print(\"The shape is a square and the area is \" + str(side**2)+ \".\")\n",
    "    else:\n",
    "        length = float(input(\"Enter the length: \"))\n",
    "        width = float(input(\"Enter the width: \"))\n",
    "        print(\"The shape is a rectangle and the area is \" + str(length*width) + \".\")"
   ]
  },
  {
   "cell_type": "code",
   "execution_count": null,
   "id": "5b59a4cc",
   "metadata": {},
   "outputs": [],
   "source": []
  }
 ],
 "metadata": {
  "kernelspec": {
   "display_name": "Python 3",
   "language": "python",
   "name": "python3"
  },
  "language_info": {
   "codemirror_mode": {
    "name": "ipython",
    "version": 3
   },
   "file_extension": ".py",
   "mimetype": "text/x-python",
   "name": "python",
   "nbconvert_exporter": "python",
   "pygments_lexer": "ipython3",
   "version": "3.8.8"
  }
 },
 "nbformat": 4,
 "nbformat_minor": 5
}
