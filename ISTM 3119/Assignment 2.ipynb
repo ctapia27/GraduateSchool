{
 "cells": [
  {
   "cell_type": "code",
   "execution_count": 12,
   "id": "3add64f8",
   "metadata": {},
   "outputs": [
    {
     "name": "stdout",
     "output_type": "stream",
     "text": [
      "Enter a positive integer: 7.5\n",
      "2, 4, 6, "
     ]
    }
   ],
   "source": [
    "#exercise 1\n",
    "var = float(input(\"Enter a positive integer: \"))\n",
    "i = 2\n",
    "\n",
    "while i < var:\n",
    "    print(i, end = \", \")\n",
    "    i += 2"
   ]
  },
  {
   "cell_type": "code",
   "execution_count": 6,
   "id": "e419c74f",
   "metadata": {
    "scrolled": true
   },
   "outputs": [
    {
     "name": "stdout",
     "output_type": "stream",
     "text": [
      "Enter a positive integer: 2\n",
      "\n",
      "There are 0 numbers in total.\n"
     ]
    }
   ],
   "source": [
    "#exercise 2a\n",
    "var = float(input(\"Enter a positive integer: \"))\n",
    "i = 1\n",
    "count = 0 \n",
    "while i < var: \n",
    "    if i%3 != 0:\n",
    "        i += 1\n",
    "        continue\n",
    "    count += 1\n",
    "    print(i, end = \" \")\n",
    "    i += 1\n",
    "print(\"\\nThere are\", count, \"numbers in total.\")"
   ]
  },
  {
   "cell_type": "code",
   "execution_count": 10,
   "id": "aa52eecd",
   "metadata": {},
   "outputs": [
    {
     "name": "stdout",
     "output_type": "stream",
     "text": [
      "Enter a positive integer: 5\n",
      "3, 5, 6, 9, 10, \n",
      "The average of all prinited numbers is 6.6\n"
     ]
    }
   ],
   "source": [
    "#exercise 2b \n",
    "var = float(input(\"Enter a positive integer: \"))\n",
    "i = 1\n",
    "count=sum=0\n",
    "\n",
    "while count < var:\n",
    "    if i%3 == 0 or i%5 ==0:\n",
    "        print(i, end = \", \")\n",
    "        count += 1\n",
    "        sum += i\n",
    "    i += 1\n",
    "print(\"\\nThe average of all prinited numbers is\", sum/count)"
   ]
  },
  {
   "cell_type": "code",
   "execution_count": 15,
   "id": "1491eb22",
   "metadata": {},
   "outputs": [
    {
     "name": "stdout",
     "output_type": "stream",
     "text": [
      "Enter a positive numbers 1 by 1 (enter 0 when finished): 20\n",
      "Enter a positive numbers 1 by 1 (enter 0 when finished): -2\n",
      "Negative numbers are invalid! Please re-enter.\n",
      "Enter a positive numbers 1 by 1 (enter 0 when finished): 2\n",
      "Enter a positive numbers 1 by 1 (enter 0 when finished): 0\n",
      "The average of all numbers is 11.0\n"
     ]
    }
   ],
   "source": [
    "#exercise 3\n",
    "count=sum=0\n",
    "while True: \n",
    "    num1 = float(input(\"Enter a positive numbers 1 by 1 (enter 0 when finished): \"))\n",
    "    if num1 == 0:\n",
    "        print(\"The average of all numbers is\", sum/count)\n",
    "        break \n",
    "    if num1 < 0: \n",
    "        print(\"Negative numbers are invalid! Please re-enter.\")\n",
    "        continue\n",
    "    count += 1\n",
    "    sum += num1"
   ]
  },
  {
   "cell_type": "code",
   "execution_count": 1,
   "id": "19e5e7da",
   "metadata": {},
   "outputs": [
    {
     "name": "stdout",
     "output_type": "stream",
     "text": [
      "Enter a variable: 15\n",
      "3, 6, 9, 12, \n",
      "There are 4 numbers in total.\n"
     ]
    }
   ],
   "source": [
    "#alternative exercise 2a\n",
    "var = int(input(\"Enter a variable: \"))\n",
    "i = 3\n",
    "count = 0\n",
    "\n",
    "while i < var:\n",
    "    if i %3 == 0:\n",
    "        print(i, end = \", \")\n",
    "    i += 3\n",
    "    count += 1\n",
    "print(\"\\nThere are\", count, \"numbers in total.\")"
   ]
  },
  {
   "cell_type": "code",
   "execution_count": 12,
   "id": "8fc9d1ed",
   "metadata": {},
   "outputs": [
    {
     "name": "stdout",
     "output_type": "stream",
     "text": [
      "Enter a positive integer: 4\n",
      "   *\n",
      "  ***\n",
      " *****\n",
      "*******\n"
     ]
    }
   ],
   "source": [
    "#bonus question 1\n",
    "var = float(input(\"Enter a positive integer: \"))\n",
    "stars = 1\n",
    "lines = 0 \n",
    "\n",
    "while stars <= var: \n",
    "    spaces = 2*var - 1\n",
    "    star_spaces = stars + lines\n",
    "    lines += 1\n",
    "    stars += 1\n",
    "    space = (spaces - star_spaces)/2\n",
    "    print(int(space)*\" \"+ int(star_spaces)* \"*\")"
   ]
  },
  {
   "cell_type": "code",
   "execution_count": null,
   "id": "fc748204",
   "metadata": {},
   "outputs": [],
   "source": []
  }
 ],
 "metadata": {
  "kernelspec": {
   "display_name": "Python 3",
   "language": "python",
   "name": "python3"
  },
  "language_info": {
   "codemirror_mode": {
    "name": "ipython",
    "version": 3
   },
   "file_extension": ".py",
   "mimetype": "text/x-python",
   "name": "python",
   "nbconvert_exporter": "python",
   "pygments_lexer": "ipython3",
   "version": "3.8.8"
  }
 },
 "nbformat": 4,
 "nbformat_minor": 5
}
