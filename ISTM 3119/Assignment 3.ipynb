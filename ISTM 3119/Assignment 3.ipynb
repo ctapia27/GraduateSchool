{
 "cells": [
  {
   "cell_type": "code",
   "execution_count": 202,
   "id": "f9fb0b1f",
   "metadata": {},
   "outputs": [
    {
     "name": "stdout",
     "output_type": "stream",
     "text": [
      "Enter F or C to indicate temperature unit: f\n",
      "Enter a temperature: 180\n"
     ]
    },
    {
     "data": {
      "text/plain": [
       "'180 F is equivalent to 82.22 C.'"
      ]
     },
     "execution_count": 202,
     "metadata": {},
     "output_type": "execute_result"
    }
   ],
   "source": [
    "# Question 1\n",
    "units = str(input(\"Enter F or C to indicate temperature unit: \"))\n",
    "temp = int(input(\"Enter a temperature: \"))\n",
    "def conversion (units, temp):\n",
    "    if units.lower() == \"f\":\n",
    "        farenheit = (temp - 32)*(5/9)\n",
    "        return \"{} F is equivalent to {:.2f} C.\".format(temp,farenheit)\n",
    "    elif units.lower() == \"c\":\n",
    "        celsius = (temp * 1.8) + 32\n",
    "        return \"{} C is equivalent to {:.2f} F.\".format(temp, celsius)\n",
    "conversion(units, temp)"
   ]
  },
  {
   "cell_type": "code",
   "execution_count": 195,
   "id": "b5952d63",
   "metadata": {},
   "outputs": [
    {
     "name": "stdout",
     "output_type": "stream",
     "text": [
      "Enter the listed price of a product: 100.7\n",
      "Listed price is 100.7\n",
      "10.00% off = $90.63\n",
      "20.00% off = $80.56\n",
      "30.00% off = $70.49\n",
      "40.00% off = $60.42\n",
      "50.00% off = $50.35\n"
     ]
    }
   ],
   "source": [
    "#Question 2a\n",
    "j = 0.1\n",
    "n = float(input(\"Enter the listed price of a product: \"))\n",
    "def price_list(j,n):\n",
    "    print(\"Listed price is {}\".format(n))\n",
    "    while j <= 0.5:\n",
    "        percentage = j * 100\n",
    "        discount = (n * j) \n",
    "        price_discount = n - discount \n",
    "        print(\"{:.2f}% off = ${:.2f}\".format(percentage, price_discount))\n",
    "        j += 0.1\n",
    "price_list(j,n)"
   ]
  },
  {
   "cell_type": "code",
   "execution_count": 203,
   "id": "fe3a0836",
   "metadata": {},
   "outputs": [
    {
     "name": "stdout",
     "output_type": "stream",
     "text": [
      "Enter the listed price: 100.7\n",
      "Discount Increment, enter 0.03 for 3%: 0.05\n",
      "Listed price is $100.70\n",
      "5% off = $95.67\n",
      "10% off = $90.63\n",
      "15% off = $85.59\n",
      "20% off = $80.56\n",
      "25% off = $75.53\n",
      "30% off = $70.49\n",
      "35% off = $65.46\n",
      "40% off = $60.42\n",
      "45% off = $55.39\n",
      "50% off = $50.35\n"
     ]
    }
   ],
   "source": [
    "#Question 2b \n",
    "n = float(input(\"Enter the listed price: \"))\n",
    "d = float(input(\"Discount Increment, enter 0.03 for 3%: \"))\n",
    "def price_list(n, d):\n",
    "    percentage = d *100 \n",
    "    print(\"Listed price is ${:.2f}\".format(n))\n",
    "    while percentage <= 50:\n",
    "        discounted_price = n - n * percentage /100\n",
    "        print(\"{:.0f}% off = ${:.2f}\".format(percentage, discounted_price))\n",
    "        percentage += d*100\n",
    "price_list(n,d)\n",
    "    "
   ]
  },
  {
   "cell_type": "code",
   "execution_count": 192,
   "id": "89d07791",
   "metadata": {},
   "outputs": [
    {
     "name": "stdout",
     "output_type": "stream",
     "text": [
      "Enter your NetID: ctapia27\n",
      "The generated GWU email is, ctapia27@gwmail.gwu.edu\n"
     ]
    }
   ],
   "source": [
    "#Question 3a\n",
    "def email(netid):\n",
    "    netid = input(\"Enter your NetID: \")\n",
    "    print(\"The generated GWU email is, \" + netid + \"@gwmail.gwu.edu\")\n",
    "email(netid)"
   ]
  },
  {
   "cell_type": "code",
   "execution_count": 205,
   "id": "f5ad7c77",
   "metadata": {
    "scrolled": true
   },
   "outputs": [
    {
     "name": "stdout",
     "output_type": "stream",
     "text": [
      "Enter your NetID: carlatapiaaaa\n",
      "Your GWU email is, carlatapiaa@gwmail.gwu.edu\n"
     ]
    }
   ],
   "source": [
    "#Question 3b\n",
    "netid = str(input(\"Enter your NetID: \"))\n",
    "def email(netid):\n",
    "    if len(netid) > 10:\n",
    "        print(\"Your GWU email is, \" + netid[:11] + \"@gwmail.gwu.edu\")\n",
    "    else:\n",
    "        print(\"Your GWU email is \" + netid + \"@gwmail.gwu.edu\")\n",
    "email(netid)"
   ]
  },
  {
   "cell_type": "code",
   "execution_count": 200,
   "id": "9fee6984",
   "metadata": {
    "scrolled": true
   },
   "outputs": [
    {
     "name": "stdout",
     "output_type": "stream",
     "text": [
      "Enter your full name in the format: Last Name, First Name or First Name Last Name: tapia, carla\n",
      "Dear Carla, welcome to the party!\n"
     ]
    }
   ],
   "source": [
    "#Question 4\n",
    "name = input(\"Enter your full name in the format: Last Name, First Name or First Name Last Name: \").lower()\n",
    "def invitation(name):\n",
    "    if \",\" in name[0:]:\n",
    "        pos_at = name.find(\",\")\n",
    "        first_name = name[pos_at+2:].capitalize()\n",
    "        print(\"Dear {}, welcome to the party!\".format(first_name))\n",
    "    else:\n",
    "        pos_at = name.find(\" \")\n",
    "        first_name = name[:pos_at].capitalize()\n",
    "        print(\"Dear {}, welcome to the party!\".format(first_name))\n",
    "invitation(name)"
   ]
  },
  {
   "cell_type": "code",
   "execution_count": null,
   "id": "de501d02",
   "metadata": {},
   "outputs": [],
   "source": []
  },
  {
   "cell_type": "code",
   "execution_count": null,
   "id": "bc5a090f",
   "metadata": {},
   "outputs": [],
   "source": []
  }
 ],
 "metadata": {
  "kernelspec": {
   "display_name": "Python 3",
   "language": "python",
   "name": "python3"
  },
  "language_info": {
   "codemirror_mode": {
    "name": "ipython",
    "version": 3
   },
   "file_extension": ".py",
   "mimetype": "text/x-python",
   "name": "python",
   "nbconvert_exporter": "python",
   "pygments_lexer": "ipython3",
   "version": "3.8.8"
  }
 },
 "nbformat": 4,
 "nbformat_minor": 5
}
