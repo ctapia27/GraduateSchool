{
 "cells": [
  {
   "cell_type": "code",
   "execution_count": 1,
   "id": "573874f4",
   "metadata": {},
   "outputs": [
    {
     "name": "stdout",
     "output_type": "stream",
     "text": [
      "Favorite Celebrity #1 is Rihanna.\n",
      "Favorite Celebrity #2 is Ariana Grande.\n",
      "Favorite Celebrity #3 is Bad Bunny.\n"
     ]
    }
   ],
   "source": [
    "#exercise 1\n",
    "mystr= [\"Rihanna\", \"Ariana Grande\", \"Bad Bunny\"]\n",
    "index = 1\n",
    "for x in mystr:\n",
    "    print(\"Favorite Celebrity #{} is {}.\".format(index, x))\n",
    "    index += 1"
   ]
  },
  {
   "cell_type": "code",
   "execution_count": 48,
   "id": "39879b78",
   "metadata": {},
   "outputs": [
    {
     "name": "stdout",
     "output_type": "stream",
     "text": [
      "me. loves Python and Python love I "
     ]
    }
   ],
   "source": [
    "def mysentence(mystr):\n",
    "    mylist = mystr.split()\n",
    "    stringlength = len(mylist)\n",
    "    slicedstring = mylist[stringlength :: -1]\n",
    "    for x in slicedstring:\n",
    "        if slicedstring[:1] == \"me\":\n",
    "            print(\"Me\")\n",
    "        print (x, end = \" \")\n",
    "        \n",
    "mysentence(\"I love Python and Python loves me.\")"
   ]
  },
  {
   "cell_type": "code",
   "execution_count": 59,
   "id": "89e186a9",
   "metadata": {},
   "outputs": [
    {
     "name": "stdout",
     "output_type": "stream",
     "text": [
      "Enter a celebrities' name (one at a time & enter done when done): arianna grande \n",
      "Enter a celebrities' name (one at a time & enter done when done): harry styles \n",
      "Enter a celebrities' name (one at a time & enter done when done): kali uchis \n",
      "Enter a celebrities' name (one at a time & enter done when done): tyler the creator \n",
      "Favorite Celebrity #1 is Arianna Grande \n",
      "Favorite Celebrity #2 is Harry Styles \n",
      "Favorite Celebrity #3 is Kali Uchis \n",
      "Favorite Celebrity #4 is Tyler The Creator \n"
     ]
    }
   ],
   "source": [
    "#exercise 3\n",
    "celeb = []\n",
    "for x in range(4):\n",
    "    celeb_name = input(\"Enter a celebrities' name (one at a time & enter done when done): \").capitalize()\n",
    "    if celeb_name.lower() == \"done\":\n",
    "        break \n",
    "    else: \n",
    "        celeb.append(celeb_name.title())\n",
    "for a in range(len(celeb)):\n",
    "    print(\"Favorite Celebrity #\" + str(a+1) + \" is\", celeb[a])\n",
    "    "
   ]
  },
  {
   "cell_type": "code",
   "execution_count": 63,
   "id": "aefed6d7",
   "metadata": {},
   "outputs": [
    {
     "name": "stdout",
     "output_type": "stream",
     "text": [
      "Me loves Python and Python love i. \n"
     ]
    }
   ],
   "source": [
    "def reverse_sentence(sentence):\n",
    "    sentence = sentence[0:-1]\n",
    "    part_of_sentence = sentence.split()\n",
    "    part_of_sentence = part_of_sentence[::-1]\n",
    "    part_of_sentence[0] = part_of_sentence[0][0].upper() + part_of_sentence[0][1:]\n",
    "    part_of_sentence[-1] = part_of_sentence[-1][0].lower() + part_of_sentence[-1][1:]\n",
    "    part_of_sentence[-1] = part_of_sentence[-1] + \".\"\n",
    "    sentence_reversed = \"\"\n",
    "    for word in part_of_sentence:\n",
    "        sentence_reversed = sentence_reversed + word + \" \"\n",
    "    print(sentence_reversed)\n",
    "reverse_sentence(\"I love Python and Python loves me.\")\n"
   ]
  },
  {
   "cell_type": "code",
   "execution_count": 58,
   "id": "6d930ee0",
   "metadata": {},
   "outputs": [
    {
     "name": "stdout",
     "output_type": "stream",
     "text": [
      "Me. loves Python and Python love i . "
     ]
    }
   ],
   "source": [
    "mysent = \"I love Python and Python loves me.\"\n",
    "mysent_period = mysent.replace(\".\", \" \")\n",
    "mysent_i = mysent.replace(\"I\", \"i\")\n",
    "mysent_me = mysent_i.replace(\"me\", \"Me\")\n",
    "mysent_total = mysent_me.split()\n",
    "mysent_total.reverse()\n",
    "mysent_total.append(\".\")\n",
    "\n",
    "def myfunc(mysent):\n",
    "    for x in mysent_total:\n",
    "        print(x, end = \" \")\n",
    "myfunc(mysent)"
   ]
  },
  {
   "cell_type": "code",
   "execution_count": 64,
   "id": "b7392f61",
   "metadata": {},
   "outputs": [
    {
     "name": "stdout",
     "output_type": "stream",
     "text": [
      "Enter a celebrities' name (one at a time & enter done when done): harry styles\n",
      "Enter a celebrities' name (one at a time & enter done when done): arianna grande \n",
      "Enter a celebrities' name (one at a time & enter done when done): done\n",
      "Favorite Celebrity #1 is Harry Styles\n",
      "Favorite Celebrity #2 is Arianna Grande \n"
     ]
    }
   ],
   "source": [
    "celeb = []\n",
    "for x in range(4):\n",
    "    celeb_name = input(\"Enter a celebrities' name (one at a time & enter done when done): \").capitalize()\n",
    "    if celeb_name.lower() == \"done\":\n",
    "        break \n",
    "    else: \n",
    "        celeb.append(celeb_name.title())\n",
    "for a in range(len(celeb)):\n",
    "    print(\"Favorite Celebrity #\" + str(a+1) + \" is\", celeb[a])\n"
   ]
  },
  {
   "cell_type": "code",
   "execution_count": null,
   "id": "e0e1694e",
   "metadata": {},
   "outputs": [],
   "source": []
  }
 ],
 "metadata": {
  "kernelspec": {
   "display_name": "Python 3",
   "language": "python",
   "name": "python3"
  },
  "language_info": {
   "codemirror_mode": {
    "name": "ipython",
    "version": 3
   },
   "file_extension": ".py",
   "mimetype": "text/x-python",
   "name": "python",
   "nbconvert_exporter": "python",
   "pygments_lexer": "ipython3",
   "version": "3.8.8"
  }
 },
 "nbformat": 4,
 "nbformat_minor": 5
}
