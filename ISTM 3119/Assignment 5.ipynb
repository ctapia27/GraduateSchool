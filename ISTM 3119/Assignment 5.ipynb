{
 "cells": [
  {
   "cell_type": "code",
   "execution_count": 41,
   "id": "95dbb6e0",
   "metadata": {},
   "outputs": [
    {
     "name": "stdout",
     "output_type": "stream",
     "text": [
      "Enter a date in the format year/month/day: 2019/2/11\n"
     ]
    },
    {
     "data": {
      "text/plain": [
       "'28 Days'"
      ]
     },
     "execution_count": 41,
     "metadata": {},
     "output_type": "execute_result"
    }
   ],
   "source": [
    "dictionary = {1: 31, 2: 28, 3: 31, 4: 30, 5: 31, 6: 30, 7: 31, 8: 30, 9: 31, 10: 31, 11: 30, 12: 31}\n",
    "def myfunc1():\n",
    "    date = input(\"Enter a date in the format year/month/day: \")\n",
    "    date_split = date.split(\"/\")\n",
    "    month = int(date_split[1])\n",
    "    year = int(date_split[0])\n",
    "    if month == 2:\n",
    "        if year%4 == 0:\n",
    "            return f\"{29} Days\"\n",
    "        else:\n",
    "            return f\"{dictionary[2]} Days\"\n",
    "    else:\n",
    "        return f\"{dictionary[month]} Days\"\n",
    "myfunc1()"
   ]
  },
  {
   "cell_type": "code",
   "execution_count": null,
   "id": "2dda6ee0",
   "metadata": {},
   "outputs": [],
   "source": [
    "dictionary = {\"PS5\": 499.99,\"iPhone 12\": 1299.99,\"Macbook pro\": 1699.99}\n",
    "product = input(\"Enter a Product: \").lower()\n",
    "if product in dictionary:\n",
    "    print(f\"The price of {product} is {dictionary[product]}\")\n",
    "else: \n",
    "    price = float(input(\"Enter a price: \")) \n",
    "    dictionary[product] = price\n",
    "\n",
    "print()\n",
    "quantity = input(f\"Enter quantity sold ({len(dictionary)} products): \")\n",
    "quantity_input = quantity.split(\", \")\n",
    "\n",
    "total_revenue = 0\n",
    "for item,ent in zip(dictionary.items(),quantity_input):\n",
    "    a = item[0] \n",
    "    b = item[1] \n",
    "    c = int(ent)\n",
    "    total_revenue += (b*c) \n",
    "    print(\"Sales revenue of {} is ${:,.2f}\".format(a,b*c))\n",
    "print(\"Total revenue is ${:,.2f}\".format(total_revenue))"
   ]
  },
  {
   "cell_type": "code",
   "execution_count": null,
   "id": "ae2173ba",
   "metadata": {},
   "outputs": [],
   "source": []
  }
 ],
 "metadata": {
  "kernelspec": {
   "display_name": "Python 3",
   "language": "python",
   "name": "python3"
  },
  "language_info": {
   "codemirror_mode": {
    "name": "ipython",
    "version": 3
   },
   "file_extension": ".py",
   "mimetype": "text/x-python",
   "name": "python",
   "nbconvert_exporter": "python",
   "pygments_lexer": "ipython3",
   "version": "3.8.8"
  }
 },
 "nbformat": 4,
 "nbformat_minor": 5
}
